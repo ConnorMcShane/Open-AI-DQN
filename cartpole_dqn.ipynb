{
 "metadata": {
  "language_info": {
   "codemirror_mode": {
    "name": "ipython",
    "version": 3
   },
   "file_extension": ".py",
   "mimetype": "text/x-python",
   "name": "python",
   "nbconvert_exporter": "python",
   "pygments_lexer": "ipython3",
   "version": "3.7.7-final"
  },
  "orig_nbformat": 2,
  "kernelspec": {
   "name": "Python 3.7.7 64-bit ('openai_gym': conda)",
   "display_name": "Python 3.7.7 64-bit ('openai_gym': conda)",
   "metadata": {
    "interpreter": {
     "hash": "12c28e8ed29da4e8fb956fe31b674da3fc89adb6290329891fa846e4ce5ee76f"
    }
   }
  }
 },
 "nbformat": 4,
 "nbformat_minor": 2,
 "cells": [
  {
   "cell_type": "markdown",
   "metadata": {},
   "source": [
    "# Cartpole DQN"
   ]
  },
  {
   "cell_type": "code",
   "execution_count": 1,
   "metadata": {},
   "outputs": [],
   "source": [
    "import os\n",
    "os.environ[\"CUDA_DEVICE_ORDER\"] = \"PCI_BUS_ID\"\n",
    "os.environ[\"CUDA_VISIBLE_DEVICES\"] = \"1\""
   ]
  },
  {
   "cell_type": "code",
   "execution_count": 2,
   "metadata": {
    "tags": []
   },
   "outputs": [
    {
     "output_type": "stream",
     "name": "stderr",
     "text": [
      "Using TensorFlow backend.\n"
     ]
    }
   ],
   "source": [
    "import random\n",
    "import gym\n",
    "import numpy as np\n",
    "from collections import deque\n",
    "import tensorflow as tf\n",
    "import keras\n",
    "from keras.layers import Dense\n",
    "from keras.models import Sequential\n",
    "from keras.optimizers import Adam\n",
    "from matplotlib import animation\n",
    "import matplotlib.pyplot as plt"
   ]
  },
  {
   "cell_type": "code",
   "execution_count": 3,
   "metadata": {
    "tags": []
   },
   "outputs": [
    {
     "output_type": "stream",
     "name": "stdout",
     "text": [
      "nvcc: NVIDIA (R) Cuda compiler driver\nCopyright (c) 2005-2019 NVIDIA Corporation\nBuilt on Wed_Oct_23_19:32:27_Pacific_Daylight_Time_2019\nCuda compilation tools, release 10.2, V10.2.89\n\nTensorflow version:  2.1.0\nKeras version:  2.3.1\n"
     ]
    }
   ],
   "source": [
    "stream = os.popen('nvcc --version')\n",
    "cuda_version = stream.read()\n",
    "print(cuda_version)\n",
    "print('Tensorflow version: ', tf.__version__)\n",
    "print('Keras version: ', keras.__version__)"
   ]
  },
  {
   "cell_type": "markdown",
   "metadata": {},
   "source": [
    "#### Set Params"
   ]
  },
  {
   "cell_type": "code",
   "execution_count": 4,
   "metadata": {},
   "outputs": [],
   "source": [
    "env =  gym.make('CartPole-v0')\n",
    "state_size = env.observation_space.shape[0]\n",
    "action_size = env.action_space.n\n",
    "batch_size = 32\n",
    "n_episdose = 500\n",
    "output_dir = './model_output/'\n",
    "if not os.path.exists(output_dir):\n",
    "    os.mkdir(output_dir)"
   ]
  },
  {
   "cell_type": "markdown",
   "metadata": {},
   "source": [
    "#### Define Agent\n"
   ]
  },
  {
   "cell_type": "code",
   "execution_count": 5,
   "metadata": {},
   "outputs": [],
   "source": [
    "class DQNAgent:\n",
    "    def __init__(self, state_size, action_size, final_activation):\n",
    "        \n",
    "        self.state_size = state_size\n",
    "        self.action_size = action_size\n",
    "        self.final_activation = final_activation\n",
    "\n",
    "        self.memory = deque(maxlen=2000)\n",
    "\n",
    "        self.gamma = 0.95\n",
    "\n",
    "        self.epsilon = 1.0\n",
    "        self.epsilon_decay = 0.995\n",
    "        self.epsilon_min = 0.01\n",
    "\n",
    "        self.learning_rate = 0.001\n",
    "    \n",
    "        self.model = self._build_model()\n",
    "    \n",
    "    def _build_model(self):\n",
    "        \n",
    "        model =Sequential()\n",
    "\n",
    "        model.add(Dense(24, input_dim = self.state_size, activation='relu'))\n",
    "        model.add(Dense(24, activation='relu'))\n",
    "        model.add(Dense(self.action_size, activation=self.final_activation))\n",
    "        \n",
    "        model.compile(loss='mse', optimizer=Adam(lr=self.learning_rate))\n",
    "\n",
    "        return model\n",
    "    \n",
    "    def remember(self, state, action, reward, next_state, done):\n",
    "    \n",
    "        self.memory.append((state, action, reward, next_state, done))\n",
    "    \n",
    "    def act(self, state):\n",
    "    \n",
    "        if np.random.rand() <= self.epsilon:\n",
    "            return random.randrange(self.action_size)\n",
    "        act_values = self.model.predict(state)\n",
    "        return np.argmax(act_values[0])\n",
    "    \n",
    "    def replay(self, batch_size):\n",
    "\n",
    "        mini_batch = random.sample(self.memory, batch_size)\n",
    "\n",
    "        for state, action, reward, next_state, done in mini_batch:\n",
    "            target = reward\n",
    "            if not done:\n",
    "                target = (reward + self.gamma * np.amax(self.model.predict(next_state)[0]))\n",
    "            target_f = self.model.predict(state)\n",
    "            target_f[0][action] = target\n",
    "\n",
    "            self.model.fit(state, target_f, epochs=1, verbose=0)\n",
    "\n",
    "        if self.epsilon > self.epsilon_min:\n",
    "            self.epsilon *= self.epsilon_decay\n",
    "    \n",
    "    def load(self, name):\n",
    "        self.model.load_weights(name)\n",
    "    \n",
    "    def save(self, name):\n",
    "        self.model.save_weights(name)"
   ]
  },
  {
   "cell_type": "markdown",
   "metadata": {},
   "source": [
    "#### Interact with environment"
   ]
  },
  {
   "cell_type": "code",
   "execution_count": 6,
   "metadata": {},
   "outputs": [],
   "source": [
    "def save_frames_as_gif(frames, path='./', filename='gym_animation.gif'):\n",
    "\n",
    "    #Mess with this to change frame size\n",
    "    plt.figure(figsize=(frames[0].shape[1] / 72.0, frames[0].shape[0] / 72.0), dpi=72)\n",
    "\n",
    "    patch = plt.imshow(frames[0])\n",
    "    plt.axis('off')\n",
    "\n",
    "    def animate(i):\n",
    "        patch.set_data(frames[i])\n",
    "\n",
    "    anim = animation.FuncAnimation(plt.gcf(), animate, frames = len(frames), interval=50)\n",
    "    anim.save(path + filename, writer='imagemagick', fps=60)"
   ]
  },
  {
   "cell_type": "code",
   "execution_count": 7,
   "metadata": {},
   "outputs": [
    {
     "output_type": "stream",
     "name": "stdout",
     "text": [
      "episode: 0/500, score: 29, e: 1.0\n",
      "episode: 1/500, score: 32, e: 0.86\n",
      "episode: 2/500, score: 14, e: 0.8\n",
      "episode: 3/500, score: 15, e: 0.74\n",
      "episode: 4/500, score: 21, e: 0.67\n",
      "episode: 5/500, score: 21, e: 0.6\n",
      "episode: 6/500, score: 10, e: 0.57\n",
      "episode: 7/500, score: 29, e: 0.5\n",
      "episode: 8/500, score: 21, e: 0.45\n",
      "episode: 9/500, score: 9, e: 0.43\n",
      "episode: 10/500, score: 81, e: 0.28\n",
      "episode: 11/500, score: 36, e: 0.24\n",
      "episode: 12/500, score: 64, e: 0.17\n",
      "episode: 13/500, score: 135, e: 0.088\n",
      "episode: 14/500, score: 79, e: 0.059\n",
      "episode: 15/500, score: 45, e: 0.047\n",
      "episode: 16/500, score: 105, e: 0.028\n",
      "MovieWriter imagemagick unavailable; using Pillow instead.\n",
      "episode: 17/500, score: 199, e: 0.01\n"
     ]
    },
    {
     "output_type": "display_data",
     "data": {
      "text/plain": "<Figure size 600x400 with 1 Axes>",
      "image/svg+xml": "<?xml version=\"1.0\" encoding=\"utf-8\" standalone=\"no\"?>\r\n<!DOCTYPE svg PUBLIC \"-//W3C//DTD SVG 1.1//EN\"\r\n  \"http://www.w3.org/Graphics/SVG/1.1/DTD/svg11.dtd\">\r\n<!-- Created with matplotlib (https://matplotlib.org/) -->\r\n<svg height=\"316.4pt\" version=\"1.1\" viewBox=\"0 0 467.4 316.4\" width=\"467.4pt\" xmlns=\"http://www.w3.org/2000/svg\" xmlns:xlink=\"http://www.w3.org/1999/xlink\">\r\n <metadata>\r\n  <rdf:RDF xmlns:cc=\"http://creativecommons.org/ns#\" xmlns:dc=\"http://purl.org/dc/elements/1.1/\" xmlns:rdf=\"http://www.w3.org/1999/02/22-rdf-syntax-ns#\">\r\n   <cc:Work>\r\n    <dc:type rdf:resource=\"http://purl.org/dc/dcmitype/StillImage\"/>\r\n    <dc:date>2020-10-30T16:59:18.606000</dc:date>\r\n    <dc:format>image/svg+xml</dc:format>\r\n    <dc:creator>\r\n     <cc:Agent>\r\n      <dc:title>Matplotlib v3.3.2, https://matplotlib.org/</dc:title>\r\n     </cc:Agent>\r\n    </dc:creator>\r\n   </cc:Work>\r\n  </rdf:RDF>\r\n </metadata>\r\n <defs>\r\n  <style type=\"text/css\">*{stroke-linecap:butt;stroke-linejoin:round;}</style>\r\n </defs>\r\n <g id=\"figure_1\">\r\n  <g id=\"patch_1\">\r\n   <path d=\"M 0 316.4 \r\nL 467.4 316.4 \r\nL 467.4 0 \r\nL 0 0 \r\nz\r\n\" style=\"fill:none;\"/>\r\n  </g>\r\n  <g id=\"axes_1\">\r\n   <g clip-path=\"url(#paf2996e65d)\">\r\n    <image height=\"302\" id=\"image2b3e173f6f\" transform=\"scale(1 -1)translate(0 -302)\" width=\"453\" x=\"7.2\" xlink:href=\"data:image/png;base64,\r\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\" y=\"-7.2\"/>\r\n   </g>\r\n  </g>\r\n </g>\r\n <defs>\r\n  <clipPath id=\"paf2996e65d\">\r\n   <rect height=\"302\" width=\"453\" x=\"7.2\" y=\"7.2\"/>\r\n  </clipPath>\r\n </defs>\r\n</svg>\r\n",
      "image/png": "[encoded data removed]"
     },
     "metadata": {
      "needs_background": "light"
     }
    }
   ],
   "source": [
    "best_time = 0\n",
    "best_frames = []\n",
    "agent = DQNAgent(state_size, action_size, 'linear')\n",
    "done = False\n",
    "for e in range(n_episdose):\n",
    "    state = env.reset()\n",
    "    state = np.reshape(state, [1, state_size])\n",
    "    frames = []\n",
    "    for time in range(5000):\n",
    "\n",
    "        #env.render()\n",
    "        frames.append(env.render(mode=\"rgb_array\"))\n",
    "        \n",
    "        action = agent.act(state)\n",
    "\n",
    "        next_state, reward, done, _ = env.step(action)\n",
    "\n",
    "        reward = reward if not done else -10\n",
    "\n",
    "        next_state = np.reshape(next_state, [1, state_size])\n",
    "\n",
    "        agent.remember(state, action, reward, next_state, done)\n",
    "\n",
    "        state = next_state\n",
    "\n",
    "        if done:\n",
    "            print('episode: {}/{}, score: {}, e: {:.2}'.format(e, n_episdose, time, agent.epsilon))\n",
    "            break\n",
    "\n",
    "        if len(agent.memory) > batch_size:\n",
    "            agent.replay(batch_size)\n",
    "\n",
    "        if e % 50 == 0:\n",
    "            agent.save(output_dir + 'weights_' + '{:04d}'.format(e) + '.hdf5')\n",
    "    if time > best_time:\n",
    "        best_time = time\n",
    "        best_frames = frames\n",
    "    \n",
    "    if time > 198:\n",
    "         break\n",
    "        \n",
    "save_frames_as_gif(best_frames)"
   ]
  },
  {
   "cell_type": "code",
   "execution_count": null,
   "metadata": {},
   "outputs": [],
   "source": []
  }
 ]
}